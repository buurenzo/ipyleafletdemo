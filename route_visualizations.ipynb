{
 "cells": [
  {
   "cell_type": "markdown",
   "metadata": {},
   "source": [
    "# Animating an agent following a route with ipyleaflet and osmnx\n",
    "\n",
    "<lead>With `ipyleaflet` you can build beautiful data maps. The `osmnx` package lets you pick a place and build a road network as a graph. Using the graph you can trace paths between locations. Sometimes you want to see how an agent actually follows a path you have defined. For instance to see whether a automatically generated route is actually logical. In this tutorial I will show how you van do this.</lead>\n",
    "\n",
    "![](example.png)"
   ]
  },
  {
   "cell_type": "markdown",
   "metadata": {
    "pycharm": {
     "name": "#%% md\n"
    }
   },
   "source": [
    "### Setup necessary packages\n",
    "\n",
    "The easiest way to start running this notebook is to create an environment from the environment.yml file ([instructions](https://docs.conda.io/projects/conda/en/latest/user-guide/tasks/manage-environments.html#creating-an-environment-from-an-environment-yml-file)).\n"
   ]
  },
  {
   "cell_type": "code",
   "execution_count": 1,
   "metadata": {
    "pycharm": {
     "name": "#%%\n"
    }
   },
   "outputs": [
    {
     "name": "stdout",
     "output_type": "stream",
     "text": [
      "2022-05-03 10:32:09 Configured OSMnx 1.1.2\n",
      "2022-05-03 10:32:09 HTTP response caching is on\n"
     ]
    }
   ],
   "source": [
    "import networkx\n",
    "from ipywidgets import HTML\n",
    "import ipyleaflet as ipl\n",
    "import osmnx as ox\n",
    "ox.config(use_cache=True, log_console=True)\n",
    "from time import sleep\n",
    "import pandas as pd\n"
   ]
  },
  {
   "cell_type": "markdown",
   "metadata": {
    "pycharm": {
     "name": "#%% md\n"
    }
   },
   "source": [
    "### Inspect source data\n",
    "The source data is provided by the [municipality of Amsterdam](https://maps.amsterdam.nl/open_geodata/). For this tutorial I have filtered out the stops for tram line 17 and saved it in a separate file. Each row represents one tram stop for line 17 going from Dijkgraafplein to Kinkerstraat / Bilderdijkstraat."
   ]
  },
  {
   "cell_type": "code",
   "execution_count": 2,
   "metadata": {
    "pycharm": {
     "name": "#%%\n"
    }
   },
   "outputs": [
    {
     "data": {
      "text/html": [
       "<div>\n",
       "<style scoped>\n",
       "    .dataframe tbody tr th:only-of-type {\n",
       "        vertical-align: middle;\n",
       "    }\n",
       "\n",
       "    .dataframe tbody tr th {\n",
       "        vertical-align: top;\n",
       "    }\n",
       "\n",
       "    .dataframe thead th {\n",
       "        text-align: right;\n",
       "    }\n",
       "</style>\n",
       "<table border=\"1\" class=\"dataframe\">\n",
       "  <thead>\n",
       "    <tr style=\"text-align: right;\">\n",
       "      <th></th>\n",
       "      <th>Volgorde</th>\n",
       "      <th>Naam</th>\n",
       "      <th>Modaliteit</th>\n",
       "      <th>Lijn</th>\n",
       "      <th>Lijn_select</th>\n",
       "      <th>RADIUS</th>\n",
       "      <th>Label</th>\n",
       "      <th>WKT_LNG_LAT</th>\n",
       "      <th>WKT_LAT_LNG</th>\n",
       "      <th>LNG</th>\n",
       "      <th>LAT</th>\n",
       "      <th>Unnamed: 11</th>\n",
       "    </tr>\n",
       "  </thead>\n",
       "  <tbody>\n",
       "    <tr>\n",
       "      <th>0</th>\n",
       "      <td>1</td>\n",
       "      <td>Dijkgraafplein</td>\n",
       "      <td>Tram</td>\n",
       "      <td>17 | 27</td>\n",
       "      <td>17|27</td>\n",
       "      <td>5</td>\n",
       "      <td>17 | 27 - Dijkgraafplein</td>\n",
       "      <td>POINT(4.786911 52.355548)</td>\n",
       "      <td>POINT(52.355548 4.786911)</td>\n",
       "      <td>4.786911</td>\n",
       "      <td>52.355548</td>\n",
       "      <td>NaN</td>\n",
       "    </tr>\n",
       "    <tr>\n",
       "      <th>1</th>\n",
       "      <td>2</td>\n",
       "      <td>Baden Powellweg</td>\n",
       "      <td>Tram</td>\n",
       "      <td>17 | 27</td>\n",
       "      <td>17|27</td>\n",
       "      <td>5</td>\n",
       "      <td>17 | 27 - Baden Powellweg</td>\n",
       "      <td>POINT(4.791584 52.356492)</td>\n",
       "      <td>POINT(52.356492 4.791584)</td>\n",
       "      <td>4.791584</td>\n",
       "      <td>52.356492</td>\n",
       "      <td>NaN</td>\n",
       "    </tr>\n",
       "    <tr>\n",
       "      <th>2</th>\n",
       "      <td>3</td>\n",
       "      <td>Hoekenes</td>\n",
       "      <td>Tram</td>\n",
       "      <td>17 | 27</td>\n",
       "      <td>17|27</td>\n",
       "      <td>5</td>\n",
       "      <td>17 | 27 - Hoekenes</td>\n",
       "      <td>POINT(4.799095 52.358004)</td>\n",
       "      <td>POINT(52.358004 4.799095)</td>\n",
       "      <td>4.799095</td>\n",
       "      <td>52.358004</td>\n",
       "      <td>NaN</td>\n",
       "    </tr>\n",
       "    <tr>\n",
       "      <th>3</th>\n",
       "      <td>4</td>\n",
       "      <td>Osdorpplein West</td>\n",
       "      <td>Tram</td>\n",
       "      <td>17 | 27</td>\n",
       "      <td>17|27</td>\n",
       "      <td>5</td>\n",
       "      <td>17 | 27 - Osdorpplein West</td>\n",
       "      <td>POINT(4.803203 52.359418)</td>\n",
       "      <td>POINT(52.359418 4.803203)</td>\n",
       "      <td>4.803203</td>\n",
       "      <td>52.359418</td>\n",
       "      <td>NaN</td>\n",
       "    </tr>\n",
       "    <tr>\n",
       "      <th>4</th>\n",
       "      <td>5</td>\n",
       "      <td>Osdorpplein Oost</td>\n",
       "      <td>Tram</td>\n",
       "      <td>17 | 27</td>\n",
       "      <td>17|27</td>\n",
       "      <td>5</td>\n",
       "      <td>17 | 27 - Osdorpplein Oost</td>\n",
       "      <td>POINT(4.807557 52.359622)</td>\n",
       "      <td>POINT(52.359622 4.807557)</td>\n",
       "      <td>4.807557</td>\n",
       "      <td>52.359622</td>\n",
       "      <td>NaN</td>\n",
       "    </tr>\n",
       "  </tbody>\n",
       "</table>\n",
       "</div>"
      ],
      "text/plain": [
       "   Volgorde              Naam Modaliteit     Lijn Lijn_select  RADIUS  \\\n",
       "0         1    Dijkgraafplein       Tram  17 | 27       17|27       5   \n",
       "1         2   Baden Powellweg       Tram  17 | 27       17|27       5   \n",
       "2         3          Hoekenes       Tram  17 | 27       17|27       5   \n",
       "3         4  Osdorpplein West       Tram  17 | 27       17|27       5   \n",
       "4         5  Osdorpplein Oost       Tram  17 | 27       17|27       5   \n",
       "\n",
       "                        Label                WKT_LNG_LAT  \\\n",
       "0    17 | 27 - Dijkgraafplein  POINT(4.786911 52.355548)   \n",
       "1   17 | 27 - Baden Powellweg  POINT(4.791584 52.356492)   \n",
       "2          17 | 27 - Hoekenes  POINT(4.799095 52.358004)   \n",
       "3  17 | 27 - Osdorpplein West  POINT(4.803203 52.359418)   \n",
       "4  17 | 27 - Osdorpplein Oost  POINT(4.807557 52.359622)   \n",
       "\n",
       "                 WKT_LAT_LNG       LNG        LAT  Unnamed: 11  \n",
       "0  POINT(52.355548 4.786911)  4.786911  52.355548          NaN  \n",
       "1  POINT(52.356492 4.791584)  4.791584  52.356492          NaN  \n",
       "2  POINT(52.358004 4.799095)  4.799095  52.358004          NaN  \n",
       "3  POINT(52.359418 4.803203)  4.803203  52.359418          NaN  \n",
       "4  POINT(52.359622 4.807557)  4.807557  52.359622          NaN  "
      ]
     },
     "execution_count": 2,
     "metadata": {},
     "output_type": "execute_result"
    }
   ],
   "source": [
    "url = 'tramstops.csv'\n",
    "source_df = pd.read_csv(url, delimiter=';')\n",
    "\n",
    "##########\n",
    "## TEST ##\n",
    "##########\n",
    "\n",
    "source_df.head()\n"
   ]
  },
  {
   "cell_type": "markdown",
   "metadata": {
    "pycharm": {
     "name": "#%% md\n"
    }
   },
   "source": [
    "### Get street network as graph\n",
    "See documentation: https://github.com/gboeing/osmnx-examples"
   ]
  },
  {
   "cell_type": "code",
   "execution_count": 3,
   "metadata": {
    "pycharm": {
     "name": "#%%\n"
    }
   },
   "outputs": [],
   "source": [
    "################################################################\n",
    "## UNCOMMENT WHEN YOU WANT TO LOAD THE GRAPH DATA AND SAVE IT ##\n",
    "################################################################\n",
    "\n",
    "# graph = ox.graph_from_place('Amsterdam, the Netherlands')\n",
    "# ox.io.save_graphml(graph, filepath='amsterdam.graphml', gephi=False, encoding='utf-8')\n"
   ]
  },
  {
   "cell_type": "code",
   "execution_count": 4,
   "metadata": {
    "pycharm": {
     "name": "#%%\n"
    }
   },
   "outputs": [
    {
     "name": "stdout",
     "output_type": "stream",
     "text": [
      "2022-05-03 10:32:17 Converting node, edge, and graph-level attribute data types\n",
      "2022-05-03 10:32:19 Loaded graph with 52983 nodes and 139967 edges from \"amsterdam.graphml\"\n",
      "2022-05-03 10:32:19 Begin plotting the graph...\n",
      "2022-05-03 10:32:27 Created edges GeoDataFrame from graph\n",
      "2022-05-03 10:32:36 Created nodes GeoDataFrame from graph\n"
     ]
    },
    {
     "data": {
      "image/png": "[encoded data removed]",
      "text/plain": [
       "<Figure size 576x576 with 1 Axes>"
      ]
     },
     "metadata": {},
     "output_type": "display_data"
    },
    {
     "name": "stdout",
     "output_type": "stream",
     "text": [
      "2022-05-03 10:32:42 Finished plotting the graph\n"
     ]
    },
    {
     "data": {
      "text/plain": [
       "(<Figure size 576x576 with 1 Axes>, <AxesSubplot:>)"
      ]
     },
     "execution_count": 4,
     "metadata": {},
     "output_type": "execute_result"
    }
   ],
   "source": [
    "url = 'amsterdam.graphml'\n",
    "graph = ox.io.load_graphml(url)\n",
    "ox.plot_graph(graph)\n"
   ]
  },
  {
   "cell_type": "markdown",
   "metadata": {
    "pycharm": {
     "name": "#%% md\n"
    }
   },
   "source": [
    "### Data dictionary\n",
    "Before actually drawing the routes all the necessary data needs to be combined in a logical data structure. As the selected variables have different lengths (single values, lists) a suitable data type is a dictionary. The following functions takes in the source data, a street network and a the starting coordinates (latitude and longitude). It returns a dictionary containing all the data for building the maps and routes."
   ]
  },
  {
   "cell_type": "code",
   "execution_count": 9,
   "metadata": {
    "pycharm": {
     "name": "#%%\n"
    }
   },
   "outputs": [
    {
     "name": "stdout",
     "output_type": "stream",
     "text": [
      "2022-05-03 10:47:22 Created nodes GeoDataFrame from graph\n",
      "2022-05-03 10:47:30 Created edges GeoDataFrame from graph\n",
      "2022-05-03 10:47:30 Created nodes GeoDataFrame from graph\n",
      "0 8540718163 8540718163\n",
      "2022-05-03 10:47:31 Created nodes GeoDataFrame from graph\n",
      "1 8540718163 1741994892\n",
      "2022-05-03 10:47:31 Created nodes GeoDataFrame from graph\n",
      "2 1741994892 1992119693\n",
      "2022-05-03 10:47:31 Created nodes GeoDataFrame from graph\n",
      "3 1992119693 512526337\n",
      "2022-05-03 10:47:31 Created nodes GeoDataFrame from graph\n",
      "4 512526337 1584781466\n",
      "2022-05-03 10:47:32 Created nodes GeoDataFrame from graph\n",
      "5 1584781466 3296373954\n",
      "2022-05-03 10:47:32 Created nodes GeoDataFrame from graph\n",
      "6 3296373954 2012367419\n",
      "2022-05-03 10:47:32 Created nodes GeoDataFrame from graph\n",
      "7 2012367419 2313589833\n",
      "2022-05-03 10:47:32 Created nodes GeoDataFrame from graph\n",
      "8 2313589833 2020233498\n",
      "2022-05-03 10:47:33 Created nodes GeoDataFrame from graph\n",
      "9 2020233498 6948922043\n",
      "2022-05-03 10:47:33 Created nodes GeoDataFrame from graph\n",
      "10 6948922043 2284093726\n",
      "2022-05-03 10:47:33 Created nodes GeoDataFrame from graph\n",
      "11 2284093726 7042629101\n"
     ]
    },
    {
     "data": {
      "text/plain": [
       "{'lijn': '17 | 27',\n",
       " 'label': '17 | 27 - Baden Powellweg',\n",
       " 'start': [52.355548, 4.786911],\n",
       " 'location': [52.356492, 4.791584],\n",
       " 'path': [[52.3555836, 4.7869354],\n",
       "  [52.3555119, 4.7869719],\n",
       "  [52.3557686, 4.7883544],\n",
       "  [52.3559376, 4.7891327],\n",
       "  [52.3561587, 4.7902314],\n",
       "  [52.3562551, 4.7907514],\n",
       "  [52.3562766, 4.7908649],\n",
       "  [52.3562971, 4.790982],\n",
       "  [52.3563179, 4.7911012],\n",
       "  [52.3563458, 4.7912612],\n",
       "  [52.356359, 4.7913242],\n",
       "  [52.3566417, 4.7926613],\n",
       "  [52.3567637, 4.7925973],\n",
       "  [52.3568057, 4.7925732],\n",
       "  [52.3565624, 4.7913517]]}"
      ]
     },
     "execution_count": 9,
     "metadata": {},
     "output_type": "execute_result"
    }
   ],
   "source": [
    "# Function combining data from source, street network into dictionary\n",
    "def create_dict(source_df, graph, base_location):\n",
    "    # Initialize\n",
    "    selection = ['Lijn', 'Label', 'LAT', 'LNG']\n",
    "    source_data = source_df[selection]\n",
    "    location_dic = {}\n",
    "    start = base_location\n",
    "    gdf_nodes = ox.graph_to_gdfs(graph)[0]\n",
    "    \n",
    "    \n",
    "    # For every location in the route create an entry with a location_id, a start location and a path list from start to location\n",
    "    for lx, stop in source_data.iterrows():\n",
    "        Lijn, Label, LAT, LNG = list(stop)\n",
    "        location_dic[lx] = {'lijn': Lijn,\n",
    "                            'label': Label,\n",
    "                            'start': start,\n",
    "                            'location': [LAT, LNG]\n",
    "                            }\n",
    "        y1, x1 = start\n",
    "        y2, x2 = location_dic[lx]['location']\n",
    "        nodes = ox.nearest_nodes(G=graph, X=[x1, x2], Y=[y1, y2])\n",
    "        print(lx, nodes[0], nodes[1])\n",
    "        path_nodes = networkx.shortest_path(graph, nodes[0], nodes[1])\n",
    "        path_coord = gdf_nodes.loc[path_nodes][['x', 'y']]\n",
    "        path = []\n",
    "        for point in path_coord.values:\n",
    "            path.append([point[1], point[0]])\n",
    "            location_dic[lx]['path'] = path\n",
    "    \n",
    "        # Set new start location\n",
    "        start = location_dic[lx]['location']\n",
    "            \n",
    "    return(location_dic)\n",
    "            \n",
    "\n",
    "##########\n",
    "## TEST ##\n",
    "##########\n",
    "location_dict = create_dict(\n",
    "    source_df=source_df, graph=graph, base_location=[52.355548, 4.786911])\n",
    "location_dict[1]\n"
   ]
  },
  {
   "cell_type": "markdown",
   "metadata": {
    "pycharm": {
     "name": "#%% md\n"
    }
   },
   "source": [
    "### Visualize routes\n",
    "We will now build a map and add the route and stops to it. First we need to determine the center of the map and all the corners. We will do this by gathering all the latitudes and longitudes in two separate arrays. For each array we can calculate the mean. These mean values will be used as the center point. We can also establish for each array the min and max value which we can use to fit a bounding box for the map."
   ]
  },
  {
   "cell_type": "code",
   "execution_count": 11,
   "metadata": {},
   "outputs": [
    {
     "data": {
      "application/vnd.jupyter.widget-view+json": {
       "model_id": "10dafaca8f244fb1917b4b2d26cdbd89",
       "version_major": 2,
       "version_minor": 0
      },
      "text/plain": [
       "Map(center=[52.35913275000001, 4.824016583333333], controls=(ZoomControl(options=['position', 'zoom_in_text', …"
      ]
     },
     "metadata": {},
     "output_type": "display_data"
    }
   ],
   "source": [
    "# Calculate map center and set bounds\n",
    "latitudes = pd.Series(dtype=\"float64\")\n",
    "longitudes = pd.Series(dtype=\"float64\")\n",
    "for point in location_dict.values():\n",
    "    lat, lon = pd.Series([point[\"location\"][0]]), pd.Series(\n",
    "        [point[\"location\"][1]])\n",
    "    latitudes = pd.concat([latitudes, lat])\n",
    "    longitudes = pd.concat([longitudes, lon])\n",
    "ce = [latitudes.mean(), longitudes.mean()]\n",
    "sw = [latitudes.min(), longitudes.min()]\n",
    "ne = [latitudes.max(), longitudes.max()]\n",
    "m1 = ipl.Map(center=ce)\n",
    "m1.fit_bounds([sw, ne])\n",
    "m1.layout.height = '800px'\n",
    "m1\n"
   ]
  },
  {
   "cell_type": "code",
   "execution_count": 22,
   "metadata": {
    "pycharm": {
     "name": "#%%\n"
    }
   },
   "outputs": [],
   "source": [
    "# Build route layer\n",
    "trace = []\n",
    "for point in location_dict.values():\n",
    "    for path in point[\"path\"]:\n",
    "        trace.append(path)\n",
    "lines = ipl.Polyline(\n",
    "    locations=trace,\n",
    "    color=\"tomato\",\n",
    "    fill=False\n",
    ")\n",
    "m1.add_layer(lines)\n",
    "\n",
    "# Build stops locations layer\n",
    "base = list(location_dict.values())[0]\n",
    "start = ipl.Circle(\n",
    "    location=base[\"start\"],\n",
    "    radius=30,\n",
    "    color=\"DimGray\",\n",
    "    fill_color=\"Skyblue\",\n",
    "    fill=True,\n",
    "    fill_opacity=1\n",
    ")\n",
    "m1.add_layer(start)\n",
    "\n",
    "for stop in location_dict.values():\n",
    "    circle = ipl.Circle(\n",
    "        location=stop[\"location\"],\n",
    "        radius=20,\n",
    "        color=\"DimGray\",\n",
    "        fill_color=\"SkyBlue\",\n",
    "        fill=True,\n",
    "        fill_opacity=0.85,\n",
    "        popup=HTML(str(stop[\"label\"]))\n",
    "    )\n",
    "    m1.add_layer(circle)\n",
    "    \n",
    "# Add marker\n",
    "mark = ipl.Marker(location=base[\"start\"])\n",
    "m1.add_layer(mark)\n"
   ]
  },
  {
   "cell_type": "markdown",
   "metadata": {
    "pycharm": {
     "name": "#%% md\n"
    }
   },
   "source": [
    "### Animation\n",
    "The the actual sequence of visits can be shown using an animated agent that travels through the plotted route."
   ]
  },
  {
   "cell_type": "code",
   "execution_count": 21,
   "metadata": {
    "pycharm": {
     "name": "#%%\n"
    }
   },
   "outputs": [],
   "source": [
    "step = 0.1\n",
    "for stage in location_dict.values():\n",
    "    for point in stage[\"path\"]:\n",
    "        mark.location = point\n",
    "        sleep(step)\n",
    "    visited = ipl.Circle(\n",
    "        location=stage[\"location\"],\n",
    "        radius=20,\n",
    "        color=\"#00b521\",\n",
    "        fill_color=\"#7fff96\",\n",
    "        fill=True,\n",
    "        fill_opacity=0.85\n",
    "    )\n",
    "    m1.add_layer(visited)"
   ]
  }
 ],
 "metadata": {
  "interpreter": {
   "hash": "9072a57874976f170c23b9e8ab9b19ddeba75ea463830d3e3e3b447d7312ac39"
  },
  "kernelspec": {
   "display_name": "osmnx",
   "language": "python",
   "name": "python3"
  },
  "language_info": {
   "codemirror_mode": {
    "name": "ipython",
    "version": 3
   },
   "file_extension": ".py",
   "mimetype": "text/x-python",
   "name": "python",
   "nbconvert_exporter": "python",
   "pygments_lexer": "ipython3",
   "version": "3.8.12"
  }
 },
 "nbformat": 4,
 "nbformat_minor": 4
}
